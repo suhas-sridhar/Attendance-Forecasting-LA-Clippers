{
 "cells": [
  {
   "cell_type": "code",
   "execution_count": 1,
   "id": "43e96f85",
   "metadata": {},
   "outputs": [],
   "source": [
    "from pandasql import sqldf \n",
    "import pandas as pd\n",
    "import datetime\n",
    "import seaborn as sns\n",
    "import numpy as np\n",
    "from datetime import datetime,timedelta\n",
    "import matplotlib.pyplot as plt\n",
    "import statsmodels.formula.api as sm\n",
    "import sklearn\n",
    "from sklearn.model_selection import train_test_split\n",
    "from sklearn.ensemble import RandomForestRegressor\n",
    "pd.set_option('display.max_columns', None)"
   ]
  },
  {
   "cell_type": "code",
   "execution_count": 2,
   "id": "632e0295",
   "metadata": {},
   "outputs": [],
   "source": [
    "team = pd.read_excel('Interview Project Data.xlsx', sheet_name='Team Data')\n",
    "game = pd.read_excel('Interview Project Data.xlsx', sheet_name='Game Data')\n",
    "seat = pd.read_excel('Interview Project Data.xlsx', sheet_name='Seating Chart') \n",
    "price = pd.read_excel('Interview Project Data.xlsx', sheet_name='Ticket Price Data') \n",
    "scan = pd.read_excel('Interview Project Data.xlsx', sheet_name='Ticket Scan Data')"
   ]
  },
  {
   "cell_type": "code",
   "execution_count": 3,
   "id": "7c973d34",
   "metadata": {},
   "outputs": [],
   "source": [
    "#central is 2 hours ahead of pacific time. So convert scan_datetime to PST for uniform data.\n",
    "offset=timedelta(hours=2)"
   ]
  },
  {
   "cell_type": "code",
   "execution_count": 4,
   "id": "008a2609",
   "metadata": {},
   "outputs": [
    {
     "data": {
      "text/plain": [
       "scan_unique_id            object\n",
       "event_name                object\n",
       "event_datetime    datetime64[ns]\n",
       "section_name               int64\n",
       "row_name                  object\n",
       "seat_number                int64\n",
       "scan_gate                 object\n",
       "scan_location             object\n",
       "scan_datetime     datetime64[ns]\n",
       "dtype: object"
      ]
     },
     "execution_count": 4,
     "metadata": {},
     "output_type": "execute_result"
    }
   ],
   "source": [
    "scan.dtypes"
   ]
  },
  {
   "cell_type": "code",
   "execution_count": 5,
   "id": "178a9e90",
   "metadata": {},
   "outputs": [],
   "source": [
    "scan['scan_datetime_pst']=scan['scan_datetime']-offset"
   ]
  },
  {
   "cell_type": "markdown",
   "id": "a85cff5a",
   "metadata": {
    "heading_collapsed": true
   },
   "source": [
    "### Do weekend games (Friday, Saturday, Sunday), on average, have a higher attendance than weekday games (Monday through Thursday)?"
   ]
  },
  {
   "cell_type": "code",
   "execution_count": 6,
   "id": "da472b05",
   "metadata": {
    "hidden": true
   },
   "outputs": [
    {
     "data": {
      "text/html": [
       "<div>\n",
       "<style scoped>\n",
       "    .dataframe tbody tr th:only-of-type {\n",
       "        vertical-align: middle;\n",
       "    }\n",
       "\n",
       "    .dataframe tbody tr th {\n",
       "        vertical-align: top;\n",
       "    }\n",
       "\n",
       "    .dataframe thead th {\n",
       "        text-align: right;\n",
       "    }\n",
       "</style>\n",
       "<table border=\"1\" class=\"dataframe\">\n",
       "  <thead>\n",
       "    <tr style=\"text-align: right;\">\n",
       "      <th></th>\n",
       "      <th>weekend</th>\n",
       "    </tr>\n",
       "  </thead>\n",
       "  <tbody>\n",
       "    <tr>\n",
       "      <th>0</th>\n",
       "      <td>53878</td>\n",
       "    </tr>\n",
       "  </tbody>\n",
       "</table>\n",
       "</div>"
      ],
      "text/plain": [
       "   weekend\n",
       "0    53878"
      ]
     },
     "execution_count": 6,
     "metadata": {},
     "output_type": "execute_result"
    }
   ],
   "source": [
    "sqldf(\"SELECT count(*)/3 as weekend \\\n",
    "      from scan \\\n",
    "      where strftime('%w',event_datetime) not in ('1','2','3','4'); \\\n",
    "      \")"
   ]
  },
  {
   "cell_type": "code",
   "execution_count": 7,
   "id": "23de33b4",
   "metadata": {
    "hidden": true
   },
   "outputs": [
    {
     "data": {
      "text/html": [
       "<div>\n",
       "<style scoped>\n",
       "    .dataframe tbody tr th:only-of-type {\n",
       "        vertical-align: middle;\n",
       "    }\n",
       "\n",
       "    .dataframe tbody tr th {\n",
       "        vertical-align: top;\n",
       "    }\n",
       "\n",
       "    .dataframe thead th {\n",
       "        text-align: right;\n",
       "    }\n",
       "</style>\n",
       "<table border=\"1\" class=\"dataframe\">\n",
       "  <thead>\n",
       "    <tr style=\"text-align: right;\">\n",
       "      <th></th>\n",
       "      <th>weekday</th>\n",
       "    </tr>\n",
       "  </thead>\n",
       "  <tbody>\n",
       "    <tr>\n",
       "      <th>0</th>\n",
       "      <td>45959</td>\n",
       "    </tr>\n",
       "  </tbody>\n",
       "</table>\n",
       "</div>"
      ],
      "text/plain": [
       "   weekday\n",
       "0    45959"
      ]
     },
     "execution_count": 7,
     "metadata": {},
     "output_type": "execute_result"
    }
   ],
   "source": [
    "sqldf(\"SELECT count(*)/4 as weekday \\\n",
    "      from scan \\\n",
    "      where strftime('%w',event_datetime)  in ('1','2','3','4');\")"
   ]
  },
  {
   "cell_type": "markdown",
   "id": "73c8e70e",
   "metadata": {
    "hidden": true
   },
   "source": [
    "On average, weekend games have a higher attendance compared to weekday games. 53878 compared to 45959"
   ]
  },
  {
   "cell_type": "markdown",
   "id": "6f1c9883",
   "metadata": {
    "heading_collapsed": true
   },
   "source": [
    "### Identify and rank the top 4 opponents with the highest average number of attendances."
   ]
  },
  {
   "cell_type": "code",
   "execution_count": 8,
   "id": "a7bbfad8",
   "metadata": {
    "hidden": true
   },
   "outputs": [],
   "source": [
    "game['Date']=pd.to_datetime(game['Date'])"
   ]
  },
  {
   "cell_type": "code",
   "execution_count": 9,
   "id": "a4330f24",
   "metadata": {
    "hidden": true,
    "scrolled": true
   },
   "outputs": [
    {
     "data": {
      "text/html": [
       "<div>\n",
       "<style scoped>\n",
       "    .dataframe tbody tr th:only-of-type {\n",
       "        vertical-align: middle;\n",
       "    }\n",
       "\n",
       "    .dataframe tbody tr th {\n",
       "        vertical-align: top;\n",
       "    }\n",
       "\n",
       "    .dataframe thead th {\n",
       "        text-align: right;\n",
       "    }\n",
       "</style>\n",
       "<table border=\"1\" class=\"dataframe\">\n",
       "  <thead>\n",
       "    <tr style=\"text-align: right;\">\n",
       "      <th></th>\n",
       "      <th>Opponent</th>\n",
       "      <th>Attendance</th>\n",
       "    </tr>\n",
       "  </thead>\n",
       "  <tbody>\n",
       "    <tr>\n",
       "      <th>0</th>\n",
       "      <td>Houston Rockets</td>\n",
       "      <td>5406</td>\n",
       "    </tr>\n",
       "    <tr>\n",
       "      <th>1</th>\n",
       "      <td>Utah Jazz</td>\n",
       "      <td>5287</td>\n",
       "    </tr>\n",
       "    <tr>\n",
       "      <th>2</th>\n",
       "      <td>Boston Celtics</td>\n",
       "      <td>5050</td>\n",
       "    </tr>\n",
       "    <tr>\n",
       "      <th>3</th>\n",
       "      <td>Los Angeles Lakers</td>\n",
       "      <td>4738</td>\n",
       "    </tr>\n",
       "  </tbody>\n",
       "</table>\n",
       "</div>"
      ],
      "text/plain": [
       "             Opponent  Attendance\n",
       "0     Houston Rockets        5406\n",
       "1           Utah Jazz        5287\n",
       "2      Boston Celtics        5050\n",
       "3  Los Angeles Lakers        4738"
      ]
     },
     "execution_count": 9,
     "metadata": {},
     "output_type": "execute_result"
    }
   ],
   "source": [
    "sqldf(\"select t.Opponent,t.count /q.count as Attendance from \\\n",
    "      (select Opponent,count(*) as count from game \\\n",
    "        group by Opponent) as q, \\\n",
    "      (select g.Opponent, count(distinct scan_unique_id) as count from \\\n",
    "      scan s inner join game g on substr(s.event_datetime,1,10) = substr(g.Date,1,10) \\\n",
    "      group by g.Opponent \\\n",
    "      ) as t \\\n",
    "      where q.Opponent=t.Opponent \\\n",
    "      order by Attendance desc \\\n",
    "      limit 4\")\n"
   ]
  },
  {
   "cell_type": "markdown",
   "id": "b4859cbe",
   "metadata": {
    "hidden": true
   },
   "source": [
    "The top 4 opponents with the highest average number of attendances are Ranked as above."
   ]
  },
  {
   "cell_type": "markdown",
   "id": "ae3e095a",
   "metadata": {
    "heading_collapsed": true
   },
   "source": [
    "### Identify and rank the top 10 sections that are, on average, the most filled to their capacity."
   ]
  },
  {
   "cell_type": "code",
   "execution_count": 10,
   "id": "b8df674b",
   "metadata": {
    "hidden": true
   },
   "outputs": [],
   "source": [
    "df=scan.groupby(['section_name'])['section_name'].count().reset_index(\n",
    "  name='Count').sort_values(['Count'], ascending=False).head(10)\n",
    "df.set_index('section_name',inplace=True)"
   ]
  },
  {
   "cell_type": "code",
   "execution_count": 11,
   "id": "75f2934e",
   "metadata": {
    "hidden": true
   },
   "outputs": [
    {
     "data": {
      "text/html": [
       "<div>\n",
       "<style scoped>\n",
       "    .dataframe tbody tr th:only-of-type {\n",
       "        vertical-align: middle;\n",
       "    }\n",
       "\n",
       "    .dataframe tbody tr th {\n",
       "        vertical-align: top;\n",
       "    }\n",
       "\n",
       "    .dataframe thead th {\n",
       "        text-align: right;\n",
       "    }\n",
       "</style>\n",
       "<table border=\"1\" class=\"dataframe\">\n",
       "  <thead>\n",
       "    <tr style=\"text-align: right;\">\n",
       "      <th></th>\n",
       "      <th>seat_count</th>\n",
       "    </tr>\n",
       "    <tr>\n",
       "      <th>section_name</th>\n",
       "      <th></th>\n",
       "    </tr>\n",
       "  </thead>\n",
       "  <tbody>\n",
       "    <tr>\n",
       "      <th>116</th>\n",
       "      <td>21812</td>\n",
       "    </tr>\n",
       "    <tr>\n",
       "      <th>106</th>\n",
       "      <td>21771</td>\n",
       "    </tr>\n",
       "    <tr>\n",
       "      <th>107</th>\n",
       "      <td>21033</td>\n",
       "    </tr>\n",
       "    <tr>\n",
       "      <th>115</th>\n",
       "      <td>20992</td>\n",
       "    </tr>\n",
       "    <tr>\n",
       "      <th>108</th>\n",
       "      <td>19352</td>\n",
       "    </tr>\n",
       "  </tbody>\n",
       "</table>\n",
       "</div>"
      ],
      "text/plain": [
       "              seat_count\n",
       "section_name            \n",
       "116                21812\n",
       "106                21771\n",
       "107                21033\n",
       "115                20992\n",
       "108                19352"
      ]
     },
     "execution_count": 11,
     "metadata": {},
     "output_type": "execute_result"
    }
   ],
   "source": [
    "df1=pd.DataFrame(seat.groupby('section_name')['seat_count'].sum().sort_values(ascending=False)*41)\n",
    "df1.head()"
   ]
  },
  {
   "cell_type": "code",
   "execution_count": 12,
   "id": "b4fb77c6",
   "metadata": {
    "hidden": true
   },
   "outputs": [],
   "source": [
    "df2=pd.merge(df,df1,on='section_name')\n",
    "#df2.set_index('section_name',inplace=True)"
   ]
  },
  {
   "cell_type": "code",
   "execution_count": 13,
   "id": "362d54bd",
   "metadata": {
    "hidden": true,
    "scrolled": true
   },
   "outputs": [
    {
     "data": {
      "text/html": [
       "<div>\n",
       "<style scoped>\n",
       "    .dataframe tbody tr th:only-of-type {\n",
       "        vertical-align: middle;\n",
       "    }\n",
       "\n",
       "    .dataframe tbody tr th {\n",
       "        vertical-align: top;\n",
       "    }\n",
       "\n",
       "    .dataframe thead th {\n",
       "        text-align: right;\n",
       "    }\n",
       "</style>\n",
       "<table border=\"1\" class=\"dataframe\">\n",
       "  <thead>\n",
       "    <tr style=\"text-align: right;\">\n",
       "      <th></th>\n",
       "      <th>Count</th>\n",
       "      <th>seat_count</th>\n",
       "      <th>Ratio</th>\n",
       "    </tr>\n",
       "    <tr>\n",
       "      <th>section_name</th>\n",
       "      <th></th>\n",
       "      <th></th>\n",
       "      <th></th>\n",
       "    </tr>\n",
       "  </thead>\n",
       "  <tbody>\n",
       "    <tr>\n",
       "      <th>106</th>\n",
       "      <td>17117</td>\n",
       "      <td>21771</td>\n",
       "      <td>0.786229</td>\n",
       "    </tr>\n",
       "    <tr>\n",
       "      <th>116</th>\n",
       "      <td>16861</td>\n",
       "      <td>21812</td>\n",
       "      <td>0.773015</td>\n",
       "    </tr>\n",
       "    <tr>\n",
       "      <th>105</th>\n",
       "      <td>7961</td>\n",
       "      <td>10414</td>\n",
       "      <td>0.764452</td>\n",
       "    </tr>\n",
       "    <tr>\n",
       "      <th>115</th>\n",
       "      <td>15760</td>\n",
       "      <td>20992</td>\n",
       "      <td>0.750762</td>\n",
       "    </tr>\n",
       "    <tr>\n",
       "      <th>107</th>\n",
       "      <td>15478</td>\n",
       "      <td>21033</td>\n",
       "      <td>0.735891</td>\n",
       "    </tr>\n",
       "    <tr>\n",
       "      <th>301</th>\n",
       "      <td>11060</td>\n",
       "      <td>15252</td>\n",
       "      <td>0.725151</td>\n",
       "    </tr>\n",
       "    <tr>\n",
       "      <th>117</th>\n",
       "      <td>11075</td>\n",
       "      <td>16277</td>\n",
       "      <td>0.680408</td>\n",
       "    </tr>\n",
       "    <tr>\n",
       "      <th>304</th>\n",
       "      <td>7744</td>\n",
       "      <td>11562</td>\n",
       "      <td>0.669780</td>\n",
       "    </tr>\n",
       "    <tr>\n",
       "      <th>108</th>\n",
       "      <td>12911</td>\n",
       "      <td>19352</td>\n",
       "      <td>0.667166</td>\n",
       "    </tr>\n",
       "    <tr>\n",
       "      <th>114</th>\n",
       "      <td>9103</td>\n",
       "      <td>14596</td>\n",
       "      <td>0.623664</td>\n",
       "    </tr>\n",
       "  </tbody>\n",
       "</table>\n",
       "</div>"
      ],
      "text/plain": [
       "              Count  seat_count     Ratio\n",
       "section_name                             \n",
       "106           17117       21771  0.786229\n",
       "116           16861       21812  0.773015\n",
       "105            7961       10414  0.764452\n",
       "115           15760       20992  0.750762\n",
       "107           15478       21033  0.735891\n",
       "301           11060       15252  0.725151\n",
       "117           11075       16277  0.680408\n",
       "304            7744       11562  0.669780\n",
       "108           12911       19352  0.667166\n",
       "114            9103       14596  0.623664"
      ]
     },
     "execution_count": 13,
     "metadata": {},
     "output_type": "execute_result"
    }
   ],
   "source": [
    "df2['Ratio']=df2['Count']/df2['seat_count']\n",
    "df2.sort_values('Ratio',ascending=False).head(10)"
   ]
  },
  {
   "cell_type": "markdown",
   "id": "447f3d29",
   "metadata": {
    "heading_collapsed": true
   },
   "source": [
    "### Is there a correlation between the opponent team having a higher Vegas Odds Score (indicating higher probability of winning a championship) and higher attendance?"
   ]
  },
  {
   "cell_type": "code",
   "execution_count": 14,
   "id": "64969556",
   "metadata": {
    "hidden": true
   },
   "outputs": [
    {
     "data": {
      "text/html": [
       "<div>\n",
       "<style scoped>\n",
       "    .dataframe tbody tr th:only-of-type {\n",
       "        vertical-align: middle;\n",
       "    }\n",
       "\n",
       "    .dataframe tbody tr th {\n",
       "        vertical-align: top;\n",
       "    }\n",
       "\n",
       "    .dataframe thead th {\n",
       "        text-align: right;\n",
       "    }\n",
       "</style>\n",
       "<table border=\"1\" class=\"dataframe\">\n",
       "  <thead>\n",
       "    <tr style=\"text-align: right;\">\n",
       "      <th></th>\n",
       "      <th>Opponent</th>\n",
       "      <th>Attendance</th>\n",
       "    </tr>\n",
       "  </thead>\n",
       "  <tbody>\n",
       "    <tr>\n",
       "      <th>0</th>\n",
       "      <td>Houston Rockets</td>\n",
       "      <td>5406</td>\n",
       "    </tr>\n",
       "    <tr>\n",
       "      <th>1</th>\n",
       "      <td>Utah Jazz</td>\n",
       "      <td>5287</td>\n",
       "    </tr>\n",
       "    <tr>\n",
       "      <th>2</th>\n",
       "      <td>Boston Celtics</td>\n",
       "      <td>5050</td>\n",
       "    </tr>\n",
       "    <tr>\n",
       "      <th>3</th>\n",
       "      <td>Los Angeles Lakers</td>\n",
       "      <td>4738</td>\n",
       "    </tr>\n",
       "    <tr>\n",
       "      <th>4</th>\n",
       "      <td>New York Knicks</td>\n",
       "      <td>4716</td>\n",
       "    </tr>\n",
       "    <tr>\n",
       "      <th>5</th>\n",
       "      <td>Sacramento Kings</td>\n",
       "      <td>4680</td>\n",
       "    </tr>\n",
       "    <tr>\n",
       "      <th>6</th>\n",
       "      <td>San Antonio Spurs</td>\n",
       "      <td>4662</td>\n",
       "    </tr>\n",
       "    <tr>\n",
       "      <th>7</th>\n",
       "      <td>Milwaukee Bucks</td>\n",
       "      <td>4579</td>\n",
       "    </tr>\n",
       "    <tr>\n",
       "      <th>8</th>\n",
       "      <td>Dallas Mavericks</td>\n",
       "      <td>4516</td>\n",
       "    </tr>\n",
       "    <tr>\n",
       "      <th>9</th>\n",
       "      <td>Philadelphia 76ers</td>\n",
       "      <td>4452</td>\n",
       "    </tr>\n",
       "    <tr>\n",
       "      <th>10</th>\n",
       "      <td>Toronto Raptors</td>\n",
       "      <td>4442</td>\n",
       "    </tr>\n",
       "    <tr>\n",
       "      <th>11</th>\n",
       "      <td>Brooklyn Nets</td>\n",
       "      <td>4304</td>\n",
       "    </tr>\n",
       "    <tr>\n",
       "      <th>12</th>\n",
       "      <td>Chicago Bulls</td>\n",
       "      <td>4205</td>\n",
       "    </tr>\n",
       "    <tr>\n",
       "      <th>13</th>\n",
       "      <td>Miami Heat</td>\n",
       "      <td>4204</td>\n",
       "    </tr>\n",
       "    <tr>\n",
       "      <th>14</th>\n",
       "      <td>Orlando Magic</td>\n",
       "      <td>4145</td>\n",
       "    </tr>\n",
       "    <tr>\n",
       "      <th>15</th>\n",
       "      <td>Phoenix Suns</td>\n",
       "      <td>4099</td>\n",
       "    </tr>\n",
       "    <tr>\n",
       "      <th>16</th>\n",
       "      <td>Cleveland Cavaliers</td>\n",
       "      <td>4016</td>\n",
       "    </tr>\n",
       "    <tr>\n",
       "      <th>17</th>\n",
       "      <td>Denver Nuggets</td>\n",
       "      <td>4013</td>\n",
       "    </tr>\n",
       "    <tr>\n",
       "      <th>18</th>\n",
       "      <td>Washington Wizards</td>\n",
       "      <td>4009</td>\n",
       "    </tr>\n",
       "    <tr>\n",
       "      <th>19</th>\n",
       "      <td>Detroit Pistons</td>\n",
       "      <td>3998</td>\n",
       "    </tr>\n",
       "    <tr>\n",
       "      <th>20</th>\n",
       "      <td>Atlanta Hawks</td>\n",
       "      <td>3962</td>\n",
       "    </tr>\n",
       "    <tr>\n",
       "      <th>21</th>\n",
       "      <td>Oklahoma City Thunder</td>\n",
       "      <td>3945</td>\n",
       "    </tr>\n",
       "    <tr>\n",
       "      <th>22</th>\n",
       "      <td>Portland Trail Blazers</td>\n",
       "      <td>3774</td>\n",
       "    </tr>\n",
       "    <tr>\n",
       "      <th>23</th>\n",
       "      <td>Memphis Grizzlies</td>\n",
       "      <td>3719</td>\n",
       "    </tr>\n",
       "    <tr>\n",
       "      <th>24</th>\n",
       "      <td>Indiana Pacers</td>\n",
       "      <td>3506</td>\n",
       "    </tr>\n",
       "    <tr>\n",
       "      <th>25</th>\n",
       "      <td>Charlotte Hornets</td>\n",
       "      <td>3436</td>\n",
       "    </tr>\n",
       "    <tr>\n",
       "      <th>26</th>\n",
       "      <td>Minnesota Timberwolves</td>\n",
       "      <td>2661</td>\n",
       "    </tr>\n",
       "    <tr>\n",
       "      <th>27</th>\n",
       "      <td>New Orleans Pelicans</td>\n",
       "      <td>2385</td>\n",
       "    </tr>\n",
       "    <tr>\n",
       "      <th>28</th>\n",
       "      <td>Golden State Warriors</td>\n",
       "      <td>1959</td>\n",
       "    </tr>\n",
       "  </tbody>\n",
       "</table>\n",
       "</div>"
      ],
      "text/plain": [
       "                  Opponent  Attendance\n",
       "0          Houston Rockets        5406\n",
       "1                Utah Jazz        5287\n",
       "2           Boston Celtics        5050\n",
       "3       Los Angeles Lakers        4738\n",
       "4          New York Knicks        4716\n",
       "5         Sacramento Kings        4680\n",
       "6        San Antonio Spurs        4662\n",
       "7          Milwaukee Bucks        4579\n",
       "8         Dallas Mavericks        4516\n",
       "9       Philadelphia 76ers        4452\n",
       "10         Toronto Raptors        4442\n",
       "11           Brooklyn Nets        4304\n",
       "12           Chicago Bulls        4205\n",
       "13              Miami Heat        4204\n",
       "14           Orlando Magic        4145\n",
       "15            Phoenix Suns        4099\n",
       "16     Cleveland Cavaliers        4016\n",
       "17          Denver Nuggets        4013\n",
       "18      Washington Wizards        4009\n",
       "19         Detroit Pistons        3998\n",
       "20           Atlanta Hawks        3962\n",
       "21   Oklahoma City Thunder        3945\n",
       "22  Portland Trail Blazers        3774\n",
       "23       Memphis Grizzlies        3719\n",
       "24          Indiana Pacers        3506\n",
       "25       Charlotte Hornets        3436\n",
       "26  Minnesota Timberwolves        2661\n",
       "27    New Orleans Pelicans        2385\n",
       "28   Golden State Warriors        1959"
      ]
     },
     "execution_count": 14,
     "metadata": {},
     "output_type": "execute_result"
    }
   ],
   "source": [
    "test=sqldf(\"select t.Opponent,t.count /q.count as Attendance from \\\n",
    "      (select Opponent,count(*) as count from game \\\n",
    "        group by Opponent) as q, \\\n",
    "      (select g.Opponent, count(distinct scan_unique_id) as count from \\\n",
    "      scan s inner join game g on substr(s.event_datetime,1,10) = substr(g.Date,1,10) \\\n",
    "      group by g.Opponent \\\n",
    "      ) as t \\\n",
    "      where q.Opponent=t.Opponent \\\n",
    "      order by Attendance desc \\\n",
    "        \")\n",
    "pd.DataFrame(test)"
   ]
  },
  {
   "cell_type": "code",
   "execution_count": 15,
   "id": "06e12f46",
   "metadata": {
    "hidden": true
   },
   "outputs": [],
   "source": [
    "df3=pd.merge(test,team, left_on='Opponent',right_on='Team Full Name')"
   ]
  },
  {
   "cell_type": "code",
   "execution_count": 16,
   "id": "0ed0c920",
   "metadata": {
    "hidden": true
   },
   "outputs": [],
   "source": [
    "df3.rename(columns={'Vegas Odds for 1819': 'Odds'}, inplace=True)"
   ]
  },
  {
   "cell_type": "code",
   "execution_count": 17,
   "id": "a8e88218",
   "metadata": {
    "hidden": true
   },
   "outputs": [
    {
     "data": {
      "image/png": "[encoded data removed]",
      "text/plain": [
       "<Figure size 432x288 with 1 Axes>"
      ]
     },
     "metadata": {
      "needs_background": "light"
     },
     "output_type": "display_data"
    }
   ],
   "source": [
    "plt.scatter(df3['Attendance'],df3['Odds'])\n",
    "plt.xlabel(\"Average attendance\")\n",
    "plt.ylabel(\"Odds\")\n",
    "plt.show()"
   ]
  },
  {
   "cell_type": "code",
   "execution_count": 18,
   "id": "0740b122",
   "metadata": {
    "hidden": true
   },
   "outputs": [],
   "source": [
    "result = sm.ols('Odds~Attendance', data=df3).fit()"
   ]
  },
  {
   "cell_type": "code",
   "execution_count": 19,
   "id": "1ec1c101",
   "metadata": {
    "hidden": true
   },
   "outputs": [
    {
     "name": "stdout",
     "output_type": "stream",
     "text": [
      "                            OLS Regression Results                            \n",
      "==============================================================================\n",
      "Dep. Variable:                   Odds   R-squared:                       0.006\n",
      "Model:                            OLS   Adj. R-squared:                 -0.031\n",
      "Method:                 Least Squares   F-statistic:                    0.1566\n",
      "Date:                Thu, 06 Jan 2022   Prob (F-statistic):              0.695\n",
      "Time:                        09:51:39   Log-Likelihood:                -108.61\n",
      "No. Observations:                  29   AIC:                             221.2\n",
      "Df Residuals:                      27   BIC:                             224.0\n",
      "Df Model:                           1                                         \n",
      "Covariance Type:            nonrobust                                         \n",
      "==============================================================================\n",
      "                 coef    std err          t      P>|t|      [0.025      0.975]\n",
      "------------------------------------------------------------------------------\n",
      "Intercept     45.7244     10.770      4.246      0.000      23.627      67.822\n",
      "Attendance    -0.0010      0.003     -0.396      0.695      -0.006       0.004\n",
      "==============================================================================\n",
      "Omnibus:                        3.076   Durbin-Watson:                   1.426\n",
      "Prob(Omnibus):                  0.215   Jarque-Bera (JB):                1.385\n",
      "Skew:                           0.038   Prob(JB):                        0.500\n",
      "Kurtosis:                       1.932   Cond. No.                     2.28e+04\n",
      "==============================================================================\n",
      "\n",
      "Notes:\n",
      "[1] Standard Errors assume that the covariance matrix of the errors is correctly specified.\n",
      "[2] The condition number is large, 2.28e+04. This might indicate that there are\n",
      "strong multicollinearity or other numerical problems.\n"
     ]
    }
   ],
   "source": [
    "print(result.summary())"
   ]
  },
  {
   "cell_type": "markdown",
   "id": "fac39255",
   "metadata": {
    "hidden": true
   },
   "source": [
    "There does not seem to be a correlation between the attendance and Vegas Odds"
   ]
  },
  {
   "cell_type": "markdown",
   "id": "731b69c6",
   "metadata": {
    "heading_collapsed": true
   },
   "source": [
    "### On average, which 15-minute period before or after the start of a game has the highest number of people scanning. (Example 30 – 16 minutes prior to the start of a game)"
   ]
  },
  {
   "cell_type": "code",
   "execution_count": 20,
   "id": "1901f7a1",
   "metadata": {
    "hidden": true
   },
   "outputs": [],
   "source": [
    "df=scan.copy()"
   ]
  },
  {
   "cell_type": "code",
   "execution_count": 21,
   "id": "f7c9ad00",
   "metadata": {
    "hidden": true
   },
   "outputs": [],
   "source": [
    "df['scan_datetime_pst_diff']=(df['scan_datetime_pst']-df['event_datetime']).astype('timedelta64[m]')"
   ]
  },
  {
   "cell_type": "code",
   "execution_count": 22,
   "id": "5443157d",
   "metadata": {
    "hidden": true
   },
   "outputs": [],
   "source": [
    "# Find the earliest and latest a person scanned before/after the start of the game."
   ]
  },
  {
   "cell_type": "code",
   "execution_count": 23,
   "id": "64eb3301",
   "metadata": {
    "hidden": true
   },
   "outputs": [
    {
     "name": "stdout",
     "output_type": "stream",
     "text": [
      "-246.0 169.0\n"
     ]
    }
   ],
   "source": [
    "print(df['scan_datetime_pst_diff'].min(),df['scan_datetime_pst_diff'].max())"
   ]
  },
  {
   "cell_type": "code",
   "execution_count": 24,
   "id": "b379bd2c",
   "metadata": {
    "hidden": true
   },
   "outputs": [],
   "source": [
    "max_count=0\n",
    "max_interval=999"
   ]
  },
  {
   "cell_type": "code",
   "execution_count": 25,
   "id": "bfafbcb2",
   "metadata": {
    "hidden": true
   },
   "outputs": [],
   "source": [
    "for time in range(-255,180,15):\n",
    "    count=df[(df['scan_datetime_pst_diff'] >= time) & (df['scan_datetime_pst_diff'] < time+15)].shape[0]\n",
    "    if count>max_count:\n",
    "        max_count=count\n",
    "        max_interval=time"
   ]
  },
  {
   "cell_type": "code",
   "execution_count": 26,
   "id": "dba53bad",
   "metadata": {
    "hidden": true
   },
   "outputs": [
    {
     "data": {
      "text/plain": [
       "-15"
      ]
     },
     "execution_count": 26,
     "metadata": {},
     "output_type": "execute_result"
    }
   ],
   "source": [
    "max_interval"
   ]
  },
  {
   "cell_type": "markdown",
   "id": "eea362b2",
   "metadata": {
    "hidden": true
   },
   "source": [
    "On average, the 15 - 0 minutes prior to start of a game has the highest number of people scannning."
   ]
  },
  {
   "cell_type": "markdown",
   "id": "8345a465",
   "metadata": {},
   "source": [
    "# Develop a model to predict the at regular season games attendance."
   ]
  },
  {
   "cell_type": "markdown",
   "id": "4326330a",
   "metadata": {
    "heading_collapsed": true
   },
   "source": [
    "### EDA"
   ]
  },
  {
   "cell_type": "code",
   "execution_count": 27,
   "id": "555868d7",
   "metadata": {
    "hidden": true
   },
   "outputs": [
    {
     "data": {
      "image/png": "[encoded data removed]",
      "text/plain": [
       "<Figure size 432x288 with 1 Axes>"
      ]
     },
     "metadata": {},
     "output_type": "display_data"
    }
   ],
   "source": [
    "regular=game[game['Game Type'].str.contains('Regular')]\n",
    "win=regular.where(regular['Result']=='W').groupby('Game Type')['Total Wins'].count()\n",
    "win.plot.pie(subplots=True,autopct='%.2f%%')\n",
    "plt.show()"
   ]
  },
  {
   "cell_type": "code",
   "execution_count": 28,
   "id": "b959e255",
   "metadata": {
    "hidden": true
   },
   "outputs": [
    {
     "data": {
      "image/png": "[encoded data removed]",
      "text/plain": [
       "<Figure size 432x288 with 1 Axes>"
      ]
     },
     "metadata": {
      "needs_background": "light"
     },
     "output_type": "display_data"
    }
   ],
   "source": [
    "game['Home_Away']=game['Game Type'].map(lambda x: 'Home' if x in ['Regular Season Home','Playoffs Home'] else 'Away' )\n",
    "sns.scatterplot(x='Date', y='Clippers Points', data=game, hue='Home_Away')\n",
    "plt.show()"
   ]
  },
  {
   "cell_type": "code",
   "execution_count": 29,
   "id": "7a77b01d",
   "metadata": {
    "hidden": true
   },
   "outputs": [],
   "source": [
    "game=game.drop('Home_Away',axis=1)"
   ]
  },
  {
   "cell_type": "markdown",
   "id": "04cb0741",
   "metadata": {
    "heading_collapsed": true
   },
   "source": [
    "### Feature Engineering"
   ]
  },
  {
   "cell_type": "markdown",
   "id": "93e09282",
   "metadata": {
    "hidden": true
   },
   "source": [
    "Basic Feature engineering done below\n",
    "home_game table has all home games alone. df1 is a temporary dataframe used to join to home_game"
   ]
  },
  {
   "cell_type": "code",
   "execution_count": 30,
   "id": "7abd8436",
   "metadata": {
    "hidden": true
   },
   "outputs": [],
   "source": [
    "scan['Date']=scan['event_datetime'].dt.date\n",
    "df1=scan.groupby(['Date']).Date.agg('count').to_frame('Attendance').reset_index()\n",
    "df1['Date']=pd.to_datetime(df1['Date'])\n",
    "df1.set_index('Date',inplace=True)\n",
    "game['dayofweek']=game['Date'].dt.day_name()"
   ]
  },
  {
   "cell_type": "code",
   "execution_count": 31,
   "id": "9203f9ff",
   "metadata": {
    "hidden": true
   },
   "outputs": [],
   "source": [
    "game['Weekend_Binary']=game['dayofweek'].map(lambda x: 0 if x in ['Monday','Tuesday','Wednesday','Thursday'] else 1)\n",
    "game['Game_Type_Binary']=game['Game Type'].map(lambda x: 0 if x in ['Regular Season Home','Regular Season Away'] else 1 )\n",
    "home_game=game.copy()\n",
    "home_game['dayofweek']=game['Date'].dt.day_name()\n",
    "home_game=home_game[~home_game['Game Type'].isin(['Regular Season Away','Playoffs Away'])]"
   ]
  },
  {
   "cell_type": "code",
   "execution_count": 32,
   "id": "4a904005",
   "metadata": {
    "hidden": true
   },
   "outputs": [],
   "source": [
    "home_game=pd.merge(home_game,df1, on='Date')"
   ]
  },
  {
   "cell_type": "code",
   "execution_count": 33,
   "id": "72b91c57",
   "metadata": {
    "hidden": true
   },
   "outputs": [],
   "source": [
    "# No attendance record available for away games, no attendance record available for Home playoff games either"
   ]
  },
  {
   "cell_type": "code",
   "execution_count": 34,
   "id": "380c5731",
   "metadata": {
    "hidden": true
   },
   "outputs": [],
   "source": [
    "home_game=pd.merge(home_game,team[['Team Full Name','Vegas Odds for 1819']],left_on='Opponent', right_on='Team Full Name', how='left')"
   ]
  },
  {
   "cell_type": "code",
   "execution_count": 35,
   "id": "20c8109b",
   "metadata": {
    "hidden": true
   },
   "outputs": [],
   "source": [
    "home_game.drop('Team Full Name',axis=1,inplace=True)"
   ]
  },
  {
   "cell_type": "markdown",
   "id": "5b3fa084",
   "metadata": {
    "hidden": true
   },
   "source": [
    "Let's first look at the distribution of Attendance. We can see that the countplot peaks at around 8500."
   ]
  },
  {
   "cell_type": "code",
   "execution_count": 36,
   "id": "71c2e169",
   "metadata": {
    "hidden": true
   },
   "outputs": [
    {
     "data": {
      "image/png": "[encoded data removed]",
      "text/plain": [
       "<Figure size 360x360 with 1 Axes>"
      ]
     },
     "metadata": {
      "needs_background": "light"
     },
     "output_type": "display_data"
    }
   ],
   "source": [
    "sns.displot(data=home_game,x='Attendance',kde=True)\n",
    "plt.show()"
   ]
  },
  {
   "cell_type": "markdown",
   "id": "65fbbff6",
   "metadata": {
    "hidden": true
   },
   "source": [
    "function to encode losing/winning streak with numbers below."
   ]
  },
  {
   "cell_type": "code",
   "execution_count": 37,
   "id": "c55f739f",
   "metadata": {
    "hidden": true
   },
   "outputs": [],
   "source": [
    "def streak(x):\n",
    "    if x =='L 1':\n",
    "        y=-1\n",
    "    elif x=='L 2':\n",
    "        y=-2\n",
    "    elif x=='L 3':\n",
    "        y=-3\n",
    "    elif x=='L 4':\n",
    "        y=-4\n",
    "    elif x=='L 5':\n",
    "        y=-5\n",
    "    elif x=='W 1':\n",
    "        y=1\n",
    "    elif x=='W 2':\n",
    "        y=2\n",
    "    elif x=='W 3':\n",
    "        y=3\n",
    "    elif x=='W 4':\n",
    "        y=4\n",
    "    elif x=='W 5':\n",
    "        y=5\n",
    "    return y"
   ]
  },
  {
   "cell_type": "code",
   "execution_count": 38,
   "id": "a70c5019",
   "metadata": {
    "hidden": true
   },
   "outputs": [],
   "source": [
    "home_game['Overtime_Binary']=home_game['Overtime'].map(lambda x: 0 if x in ['No'] else 1 )\n",
    "home_game['Result_Binary']=home_game['Result'].map(lambda x: 0 if x in ['L'] else 1 )"
   ]
  },
  {
   "cell_type": "markdown",
   "id": "b652aa92",
   "metadata": {
    "heading_collapsed": true
   },
   "source": [
    "### Linear Regression Analysis"
   ]
  },
  {
   "cell_type": "code",
   "execution_count": 39,
   "id": "e6e3d4c3",
   "metadata": {
    "hidden": true
   },
   "outputs": [],
   "source": [
    "data=home_game.copy()\n",
    "data['Streak_Numeric']=data['Streak'].map(streak)\n",
    "data=data.drop('Streak',axis=1)"
   ]
  },
  {
   "cell_type": "code",
   "execution_count": 40,
   "id": "e5aa4202",
   "metadata": {
    "hidden": true
   },
   "outputs": [],
   "source": [
    "data=pd.get_dummies(data)"
   ]
  },
  {
   "cell_type": "code",
   "execution_count": 41,
   "id": "6d268c67",
   "metadata": {
    "hidden": true
   },
   "outputs": [],
   "source": [
    "data=data.drop(['Game Type_Regular Season Home','Result_L','Result_W','Overtime_No','Overtime_Yes','dayofweek_Friday','dayofweek_Monday','dayofweek_Saturday','dayofweek_Sunday', 'dayofweek_Thursday',\n",
    "       'dayofweek_Tuesday', 'dayofweek_Wednesday'],axis=1)"
   ]
  },
  {
   "cell_type": "code",
   "execution_count": 43,
   "id": "c5b28ff9",
   "metadata": {
    "hidden": true
   },
   "outputs": [],
   "source": [
    "# 29 teams have 29 dummy variables so I have dropped the last one\n",
    "df3=data.copy()\n",
    "df3=df3.drop('Opponent_Washington Wizards',axis=1)"
   ]
  },
  {
   "cell_type": "code",
   "execution_count": 44,
   "id": "8fab8de9",
   "metadata": {
    "hidden": true
   },
   "outputs": [],
   "source": [
    "df3.rename(columns={'Vegas Odds for 1819': 'Odds','Clippers Points':'Clippers_Points','Opponent Points':'Opponent_Points',\n",
    "                    'Total Wins':'Total_Wins','Total Losses':'Total_Losses',\n",
    "                    }, inplace=True)"
   ]
  },
  {
   "cell_type": "markdown",
   "id": "52e623c0",
   "metadata": {
    "hidden": true
   },
   "source": [
    "Adding '_' between each word in the team variable else the sm.ols will throw error. Below is code for correcting that issue"
   ]
  },
  {
   "cell_type": "code",
   "execution_count": 45,
   "id": "c090f2a1",
   "metadata": {
    "hidden": true
   },
   "outputs": [],
   "source": [
    "cols=df3.columns[18:]"
   ]
  },
  {
   "cell_type": "code",
   "execution_count": 46,
   "id": "bc9bd29e",
   "metadata": {
    "hidden": true
   },
   "outputs": [],
   "source": [
    "s='_'\n",
    "for col in cols:\n",
    "    x=str.split(col, ' ')\n",
    "    y=s.join(x)\n",
    "    df3=df3.rename(columns={col:y})"
   ]
  },
  {
   "cell_type": "code",
   "execution_count": 47,
   "id": "c2def9a0",
   "metadata": {
    "hidden": true
   },
   "outputs": [],
   "source": [
    "result = sm.ols('Attendance~ Clippers_Points+Opponent_Points+\\\n",
    "       Total_Wins+Total_Losses+ Weekend_Binary+\\\n",
    "       Odds+ Overtime_Binary+ Result_Binary+\\\n",
    "       +Streak_Numeric + Opponent_Atlanta_Hawks+ Opponent_Boston_Celtics+\\\n",
    "       Opponent_Brooklyn_Nets+ Opponent_Charlotte_Hornets+\\\n",
    "       Opponent_Chicago_Bulls+ Opponent_Cleveland_Cavaliers+\\\n",
    "       Opponent_Dallas_Mavericks+ Opponent_Denver_Nuggets+\\\n",
    "       Opponent_Detroit_Pistons+ Opponent_Golden_State_Warriors+\\\n",
    "       Opponent_Houston_Rockets+ Opponent_Indiana_Pacers+\\\n",
    "       Opponent_Los_Angeles_Lakers+ Opponent_Memphis_Grizzlies+\\\n",
    "       Opponent_Miami_Heat+ Opponent_Milwaukee_Bucks+\\\n",
    "       Opponent_Minnesota_Timberwolves+ Opponent_New_Orleans_Pelicans+\\\n",
    "       Opponent_New_York_Knicks+ Opponent_Oklahoma_City_Thunder+\\\n",
    "       Opponent_Orlando_Magic+ Opponent_Philadelphia_76ers+\\\n",
    "       Opponent_Phoenix_Suns+ Opponent_Portland_Trail_Blazers+\\\n",
    "       Opponent_Sacramento_Kings+ Opponent_San_Antonio_Spurs+\\\n",
    "       Opponent_Toronto_Raptors+ Opponent_Utah_Jazz', data=df3).fit()"
   ]
  },
  {
   "cell_type": "code",
   "execution_count": 48,
   "id": "cb5a81a4",
   "metadata": {
    "hidden": true
   },
   "outputs": [
    {
     "name": "stdout",
     "output_type": "stream",
     "text": [
      "                            OLS Regression Results                            \n",
      "==============================================================================\n",
      "Dep. Variable:             Attendance   R-squared:                       0.900\n",
      "Model:                            OLS   Adj. R-squared:                  0.001\n",
      "Method:                 Least Squares   F-statistic:                     1.001\n",
      "Date:                Thu, 06 Jan 2022   Prob (F-statistic):              0.579\n",
      "Time:                        09:51:39   Log-Likelihood:                -293.10\n",
      "No. Observations:                  41   AIC:                             660.2\n",
      "Df Residuals:                       4   BIC:                             723.6\n",
      "Df Model:                          36                                         \n",
      "Covariance Type:            nonrobust                                         \n",
      "===================================================================================================\n",
      "                                      coef    std err          t      P>|t|      [0.025      0.975]\n",
      "---------------------------------------------------------------------------------------------------\n",
      "Intercept                        3310.5058   3985.361      0.831      0.453   -7754.630    1.44e+04\n",
      "Clippers_Points                    17.5211     63.471      0.276      0.796    -158.704     193.746\n",
      "Opponent_Points                    -3.6313     80.373     -0.045      0.966    -226.781     219.519\n",
      "Total_Wins                        -80.4531    121.092     -0.664      0.543    -416.659     255.752\n",
      "Total_Losses                      156.0837    149.186      1.046      0.355    -258.123     570.291\n",
      "Weekend_Binary                    234.1145    682.313      0.343      0.749   -1660.291    2128.520\n",
      "Odds                               73.2579     71.753      1.021      0.365    -125.959     272.475\n",
      "Overtime_Binary                   784.6130   1278.027      0.614      0.572   -2763.760    4332.986\n",
      "Result_Binary                   -1038.4888   2689.818     -0.386      0.719   -8506.621    6429.643\n",
      "Streak_Numeric                    128.6587    343.871      0.374      0.727    -826.080    1083.397\n",
      "Opponent_Atlanta_Hawks             62.5096   2180.288      0.029      0.979   -5990.941    6115.960\n",
      "Opponent_Boston_Celtics          -450.7563   2040.862     -0.221      0.836   -6117.097    5215.584\n",
      "Opponent_Brooklyn_Nets            416.9508   2248.435      0.185      0.862   -5825.704    6659.606\n",
      "Opponent_Charlotte_Hornets       -799.0073   1510.191     -0.529      0.625   -4991.970    3393.955\n",
      "Opponent_Chicago_Bulls            493.9123   2322.350      0.213      0.842   -5953.965    6941.790\n",
      "Opponent_Cleveland_Cavaliers      104.4821   1563.440      0.067      0.950   -4236.323    4445.288\n",
      "Opponent_Dallas_Mavericks        1265.4379   2117.456      0.598      0.582   -4613.562    7144.438\n",
      "Opponent_Denver_Nuggets          -372.2994   1530.027     -0.243      0.820   -4620.336    3875.737\n",
      "Opponent_Detroit_Pistons         -343.4935   1582.060     -0.217      0.839   -4735.995    4049.008\n",
      "Opponent_Golden_State_Warriors   -100.1496   3315.299     -0.030      0.977   -9304.894    9104.595\n",
      "Opponent_Houston_Rockets         -921.3232   2588.070     -0.356      0.740   -8106.959    6264.312\n",
      "Opponent_Indiana_Pacers         -2048.3438   2381.121     -0.860      0.438   -8659.395    4562.707\n",
      "Opponent_Los_Angeles_Lakers      -701.3758   1994.015     -0.352      0.743   -6237.650    4834.898\n",
      "Opponent_Memphis_Grizzlies       -297.0569   2007.461     -0.148      0.890   -5870.663    5276.550\n",
      "Opponent_Miami_Heat               685.3054   2251.784      0.304      0.776   -5566.649    6937.260\n",
      "Opponent_Milwaukee_Bucks          330.6953   2698.915      0.123      0.908   -7162.695    7824.086\n",
      "Opponent_Minnesota_Timberwolves   347.3477   1920.116      0.181      0.865   -4983.749    5678.444\n",
      "Opponent_New_Orleans_Pelicans   -1747.0665   1834.079     -0.953      0.395   -6839.285    3345.152\n",
      "Opponent_New_York_Knicks         1023.1711   1572.754      0.651      0.551   -3343.493    5389.835\n",
      "Opponent_Oklahoma_City_Thunder  -1022.8500   2155.248     -0.475      0.660   -7006.777    4961.077\n",
      "Opponent_Orlando_Magic           1064.3735   1735.388      0.613      0.573   -3753.837    5882.584\n",
      "Opponent_Philadelphia_76ers      -497.3329   2065.841     -0.241      0.822   -6233.028    5238.362\n",
      "Opponent_Phoenix_Suns            1049.9982   1231.611      0.853      0.442   -2369.503    4469.499\n",
      "Opponent_Portland_Trail_Blazers -1141.5603   1849.064     -0.617      0.570   -6275.385    3992.264\n",
      "Opponent_Sacramento_Kings        2195.8552   1816.550      1.209      0.293   -2847.696    7239.407\n",
      "Opponent_San_Antonio_Spurs       1180.6603   1690.632      0.698      0.523   -3513.286    5874.607\n",
      "Opponent_Toronto_Raptors          229.5190   2456.559      0.093      0.930   -6590.982    7050.020\n",
      "Opponent_Utah_Jazz              -1654.7375   2525.595     -0.655      0.548   -8666.915    5357.440\n",
      "==============================================================================\n",
      "Omnibus:                        0.032   Durbin-Watson:                   2.618\n",
      "Prob(Omnibus):                  0.984   Jarque-Bera (JB):                0.050\n",
      "Skew:                           0.000   Prob(JB):                        0.975\n",
      "Kurtosis:                       2.829   Cond. No.                     1.60e+16\n",
      "==============================================================================\n",
      "\n",
      "Notes:\n",
      "[1] Standard Errors assume that the covariance matrix of the errors is correctly specified.\n",
      "[2] The smallest eigenvalue is 4.81e-27. This might indicate that there are\n",
      "strong multicollinearity problems or that the design matrix is singular.\n"
     ]
    }
   ],
   "source": [
    "print(result.summary())"
   ]
  },
  {
   "cell_type": "code",
   "execution_count": 49,
   "id": "254cd280",
   "metadata": {
    "hidden": true
   },
   "outputs": [
    {
     "name": "stdout",
     "output_type": "stream",
     "text": [
      "                            OLS Regression Results                            \n",
      "==============================================================================\n",
      "Dep. Variable:             Attendance   R-squared:                       0.320\n",
      "Model:                            OLS   Adj. R-squared:                  0.123\n",
      "Method:                 Least Squares   F-statistic:                     1.623\n",
      "Date:                Thu, 06 Jan 2022   Prob (F-statistic):              0.152\n",
      "Time:                        09:51:39   Log-Likelihood:                -332.40\n",
      "No. Observations:                  41   AIC:                             684.8\n",
      "Df Residuals:                      31   BIC:                             701.9\n",
      "Df Model:                           9                                         \n",
      "Covariance Type:            nonrobust                                         \n",
      "===================================================================================\n",
      "                      coef    std err          t      P>|t|      [0.025      0.975]\n",
      "-----------------------------------------------------------------------------------\n",
      "Intercept        5122.9576   2674.767      1.915      0.065    -332.265    1.06e+04\n",
      "Clippers_Points    -1.9440     19.580     -0.099      0.922     -41.878      37.991\n",
      "Opponent_Points    24.2365     23.427      1.035      0.309     -23.543      72.016\n",
      "Total_Wins       -151.7623     62.984     -2.410      0.022    -280.220     -23.305\n",
      "Total_Losses      219.6222     83.257      2.638      0.013      49.819     389.425\n",
      "Weekend_Binary    505.7058    328.623      1.539      0.134    -164.525    1175.937\n",
      "Odds               13.2431     16.008      0.827      0.414     -19.405      45.891\n",
      "Overtime_Binary   465.1224    515.493      0.902      0.374    -586.234    1516.478\n",
      "Result_Binary    -675.6442    785.501     -0.860      0.396   -2277.685     926.396\n",
      "Streak_Numeric    251.7466    142.750      1.764      0.088     -39.393     542.887\n",
      "==============================================================================\n",
      "Omnibus:                        0.009   Durbin-Watson:                   1.917\n",
      "Prob(Omnibus):                  0.995   Jarque-Bera (JB):                0.097\n",
      "Skew:                          -0.024   Prob(JB):                        0.952\n",
      "Kurtosis:                       2.766   Cond. No.                     3.22e+03\n",
      "==============================================================================\n",
      "\n",
      "Notes:\n",
      "[1] Standard Errors assume that the covariance matrix of the errors is correctly specified.\n",
      "[2] The condition number is large, 3.22e+03. This might indicate that there are\n",
      "strong multicollinearity or other numerical problems.\n"
     ]
    }
   ],
   "source": [
    "result1 = sm.ols('Attendance~ Clippers_Points+Opponent_Points+\\\n",
    "       Total_Wins+Total_Losses+ Weekend_Binary+\\\n",
    "       Odds+ Overtime_Binary+ Result_Binary+\\\n",
    "       +Streak_Numeric', data=df3).fit()\n",
    "print(result1.summary())"
   ]
  },
  {
   "cell_type": "code",
   "execution_count": 50,
   "id": "356ce13e",
   "metadata": {
    "hidden": true
   },
   "outputs": [],
   "source": [
    "# multi-collinearity issues when you take into account all teams. I want to run random forest. Not sure how to do it."
   ]
  },
  {
   "cell_type": "markdown",
   "id": "fc3d3d82",
   "metadata": {},
   "source": [
    "### Random Forest Regression"
   ]
  },
  {
   "cell_type": "markdown",
   "id": "ba98da54",
   "metadata": {},
   "source": [
    "Model-1"
   ]
  },
  {
   "cell_type": "code",
   "execution_count": 165,
   "id": "b0316f90",
   "metadata": {},
   "outputs": [],
   "source": [
    "home_game['Streak_Numeric']=home_game['Streak'].map(streak)"
   ]
  },
  {
   "cell_type": "code",
   "execution_count": 166,
   "id": "e9ae0386",
   "metadata": {},
   "outputs": [],
   "source": [
    "y=home_game['Attendance'] #Labels"
   ]
  },
  {
   "cell_type": "code",
   "execution_count": 167,
   "id": "304c5447",
   "metadata": {},
   "outputs": [],
   "source": [
    "X=home_game[['Clippers Points','Opponent Points','Total Wins','Total Losses','Weekend_Binary','Game_Type_Binary',\n",
    "             'Vegas Odds for 1819','Overtime_Binary','Streak_Numeric']]"
   ]
  },
  {
   "cell_type": "code",
   "execution_count": 168,
   "id": "c818fb6f",
   "metadata": {},
   "outputs": [],
   "source": [
    "X_train, X_test, y_train, y_test = train_test_split(X, y, test_size=0.2)"
   ]
  },
  {
   "cell_type": "code",
   "execution_count": 169,
   "id": "2026cdf6",
   "metadata": {},
   "outputs": [],
   "source": [
    "regressor = RandomForestRegressor(n_estimators = 100, random_state = 0)"
   ]
  },
  {
   "cell_type": "code",
   "execution_count": 170,
   "id": "09b4690e",
   "metadata": {},
   "outputs": [],
   "source": [
    "#Train the model using the training sets y_pred=clf.predict(X_test)\n",
    "regressor.fit(X_train,y_train)\n",
    "y_pred=regressor.predict(X_test)"
   ]
  },
  {
   "cell_type": "code",
   "execution_count": 171,
   "id": "69b5e9cd",
   "metadata": {},
   "outputs": [
    {
     "data": {
      "text/plain": [
       "array([8774.35, 8124.99, 8713.23, 8909.39, 9106.49, 8794.63, 8230.91,\n",
       "       8210.72, 8487.73])"
      ]
     },
     "execution_count": 171,
     "metadata": {},
     "output_type": "execute_result"
    }
   ],
   "source": [
    "y_pred"
   ]
  },
  {
   "cell_type": "code",
   "execution_count": 172,
   "id": "3aebfd0a",
   "metadata": {},
   "outputs": [
    {
     "data": {
      "text/plain": [
       "13    8351\n",
       "3     8019\n",
       "36    8032\n",
       "22    6868\n",
       "33    8411\n",
       "12    7237\n",
       "1     6343\n",
       "9     7648\n",
       "28    9716\n",
       "Name: Attendance, dtype: int64"
      ]
     },
     "execution_count": 172,
     "metadata": {},
     "output_type": "execute_result"
    }
   ],
   "source": [
    "y_test"
   ]
  },
  {
   "cell_type": "code",
   "execution_count": 173,
   "id": "85bb4a80",
   "metadata": {},
   "outputs": [],
   "source": [
    "from sklearn import metrics"
   ]
  },
  {
   "cell_type": "code",
   "execution_count": 174,
   "id": "04977a2b",
   "metadata": {},
   "outputs": [
    {
     "name": "stdout",
     "output_type": "stream",
     "text": [
      "Root Mean Squared Error: 1207.4412460516105\n",
      "Mean Absolute Error: 1020.442222222222\n",
      "Mean Squared Error: 1457914.362666666\n"
     ]
    }
   ],
   "source": [
    "print('Root Mean Squared Error:', np.sqrt(metrics.mean_squared_error(y_test, y_pred)))\n",
    "print('Mean Absolute Error:', metrics.mean_absolute_error(y_test, y_pred))\n",
    "print('Mean Squared Error:', metrics.mean_squared_error(y_test, y_pred))\n"
   ]
  },
  {
   "cell_type": "code",
   "execution_count": 175,
   "id": "4bb2419a",
   "metadata": {},
   "outputs": [
    {
     "name": "stdout",
     "output_type": "stream",
     "text": [
      "Mean Absolute Percentage Error (MAPE): 11.83\n",
      "Accuracy: 88.17\n"
     ]
    }
   ],
   "source": [
    "mape = np.mean(np.abs((y_test - y_pred) / np.abs(y_pred)))\n",
    "print('Mean Absolute Percentage Error (MAPE):', round(mape * 100, 2))\n",
    "print('Accuracy:', round(100*(1 - mape), 2))"
   ]
  },
  {
   "cell_type": "code",
   "execution_count": 176,
   "id": "935d896f",
   "metadata": {},
   "outputs": [],
   "source": [
    "feature_imp = pd.Series(regressor.feature_importances_,index=['Clippers Points','Opponent Points','Total Wins','Total Losses','Weekend_Binary','Game_Type_Binary',\n",
    "             'Vegas Odds for 1819','Overtime_Binary','Streak_Numeric']).sort_values(ascending=False)"
   ]
  },
  {
   "cell_type": "code",
   "execution_count": 177,
   "id": "32c31430",
   "metadata": {},
   "outputs": [
    {
     "data": {
      "image/png": "[encoded data removed]",
      "text/plain": [
       "<Figure size 432x288 with 1 Axes>"
      ]
     },
     "metadata": {
      "needs_background": "light"
     },
     "output_type": "display_data"
    }
   ],
   "source": [
    "sns.barplot(x=feature_imp, y=feature_imp.index)\n",
    "plt.show()"
   ]
  },
  {
   "cell_type": "markdown",
   "id": "d42a89be",
   "metadata": {},
   "source": [
    "Model -2 This is the model I choose to predict attendance"
   ]
  },
  {
   "cell_type": "code",
   "execution_count": 152,
   "id": "25e2c8b6",
   "metadata": {},
   "outputs": [],
   "source": [
    "y=data['Attendance'] #Labels"
   ]
  },
  {
   "cell_type": "code",
   "execution_count": 153,
   "id": "78ce0ca6",
   "metadata": {},
   "outputs": [],
   "source": [
    "X=data[[\n",
    "       'Total Wins', 'Total Losses', 'Weekend_Binary', 'Game_Type_Binary',\n",
    "        'Vegas Odds for 1819', 'Overtime_Binary', 'Result_Binary',\n",
    "       'Streak_Numeric', 'Start Time_10:30p', 'Start Time_3:30p',\n",
    "       'Start Time_5:00p', 'Start Time_9:00p', 'Start Time_9:30p',\n",
    "       'Opponent_Atlanta Hawks', 'Opponent_Boston Celtics',\n",
    "       'Opponent_Brooklyn Nets', 'Opponent_Charlotte Hornets',\n",
    "       'Opponent_Chicago Bulls', 'Opponent_Cleveland Cavaliers',\n",
    "       'Opponent_Dallas Mavericks', 'Opponent_Denver Nuggets',\n",
    "       'Opponent_Detroit Pistons', 'Opponent_Golden State Warriors',\n",
    "       'Opponent_Houston Rockets', 'Opponent_Indiana Pacers',\n",
    "       'Opponent_Los Angeles Lakers', 'Opponent_Memphis Grizzlies',\n",
    "       'Opponent_Miami Heat', 'Opponent_Milwaukee Bucks',\n",
    "       'Opponent_Minnesota Timberwolves', 'Opponent_New Orleans Pelicans',\n",
    "       'Opponent_New York Knicks', 'Opponent_Oklahoma City Thunder',\n",
    "       'Opponent_Orlando Magic', 'Opponent_Philadelphia 76ers',\n",
    "       'Opponent_Phoenix Suns', 'Opponent_Portland Trail Blazers',\n",
    "       'Opponent_Sacramento Kings', 'Opponent_San Antonio Spurs',\n",
    "       'Opponent_Toronto Raptors', 'Opponent_Utah Jazz',\n",
    "       'Opponent_Washington Wizards']]"
   ]
  },
  {
   "cell_type": "code",
   "execution_count": 154,
   "id": "e0ef22c2",
   "metadata": {},
   "outputs": [],
   "source": [
    "X_train, X_test, y_train, y_test = train_test_split(X, y, test_size=0.2)\n",
    "regressor=RandomForestRegressor(n_estimators = 300, random_state = 0)"
   ]
  },
  {
   "cell_type": "code",
   "execution_count": 155,
   "id": "d18090c0",
   "metadata": {},
   "outputs": [],
   "source": [
    "regressor.fit(X_train,y_train)\n",
    "y_pred=regressor.predict(X_test)"
   ]
  },
  {
   "cell_type": "code",
   "execution_count": 156,
   "id": "088c20be",
   "metadata": {},
   "outputs": [],
   "source": [
    "new=data.drop(['Attendance','Clippers Points', 'Opponent Points'],axis=1)"
   ]
  },
  {
   "cell_type": "code",
   "execution_count": 157,
   "id": "13a02c56",
   "metadata": {},
   "outputs": [],
   "source": [
    "feature_imp = pd.Series(regressor.feature_importances_,index=new.columns[2:]).sort_values(ascending=False).head(5)"
   ]
  },
  {
   "cell_type": "code",
   "execution_count": 158,
   "id": "cc562f48",
   "metadata": {},
   "outputs": [
    {
     "data": {
      "text/plain": [
       "Streak_Numeric                    0.254805\n",
       "Total Wins                        0.125209\n",
       "Vegas Odds for 1819               0.121230\n",
       "Total Losses                      0.094644\n",
       "Opponent_Oklahoma City Thunder    0.066063\n",
       "dtype: float64"
      ]
     },
     "execution_count": 158,
     "metadata": {},
     "output_type": "execute_result"
    }
   ],
   "source": [
    "feature_imp"
   ]
  },
  {
   "cell_type": "code",
   "execution_count": 159,
   "id": "64b429a1",
   "metadata": {},
   "outputs": [
    {
     "name": "stdout",
     "output_type": "stream",
     "text": [
      "Mean Absolute Error: 997.7833333333333\n",
      "Mean Squared Error: 1653834.998623457\n",
      "Root Mean Squared Error: 1286.0151626724535\n"
     ]
    }
   ],
   "source": [
    "print('Mean Absolute Error:', metrics.mean_absolute_error(y_test, y_pred))\n",
    "print('Mean Squared Error:', metrics.mean_squared_error(y_test, y_pred))\n",
    "print('Root Mean Squared Error:', np.sqrt(metrics.mean_squared_error(y_test, y_pred)))"
   ]
  },
  {
   "cell_type": "code",
   "execution_count": 160,
   "id": "51041d44",
   "metadata": {},
   "outputs": [
    {
     "name": "stdout",
     "output_type": "stream",
     "text": [
      "Mean Absolute Percentage Error (MAPE): 12.12\n",
      "Accuracy: 87.88\n"
     ]
    }
   ],
   "source": [
    "mape = np.mean(np.abs((y_test - y_pred) / np.abs(y_pred)))\n",
    "print('Mean Absolute Percentage Error (MAPE):', round(mape * 100, 2))\n",
    "print('Accuracy:', round(100*(1 - mape), 2))"
   ]
  },
  {
   "cell_type": "code",
   "execution_count": 161,
   "id": "96d1c0cf",
   "metadata": {},
   "outputs": [
    {
     "data": {
      "text/plain": [
       "<AxesSubplot:>"
      ]
     },
     "execution_count": 161,
     "metadata": {},
     "output_type": "execute_result"
    },
    {
     "data": {
      "image/png": "[encoded data removed]",
      "text/plain": [
       "<Figure size 432x288 with 1 Axes>"
      ]
     },
     "metadata": {
      "needs_background": "light"
     },
     "output_type": "display_data"
    }
   ],
   "source": [
    "sns.barplot(x=feature_imp, y=feature_imp.index[:5])"
   ]
  }
 ],
 "metadata": {
  "kernelspec": {
   "display_name": "Python 3 (ipykernel)",
   "language": "python",
   "name": "python3"
  },
  "language_info": {
   "codemirror_mode": {
    "name": "ipython",
    "version": 3
   },
   "file_extension": ".py",
   "mimetype": "text/x-python",
   "name": "python",
   "nbconvert_exporter": "python",
   "pygments_lexer": "ipython3",
   "version": "3.9.7"
  },
  "varInspector": {
   "cols": {
    "lenName": 16,
    "lenType": 16,
    "lenVar": 40
   },
   "kernels_config": {
    "python": {
     "delete_cmd_postfix": "",
     "delete_cmd_prefix": "del ",
     "library": "var_list.py",
     "varRefreshCmd": "print(var_dic_list())"
    },
    "r": {
     "delete_cmd_postfix": ") ",
     "delete_cmd_prefix": "rm(",
     "library": "var_list.r",
     "varRefreshCmd": "cat(var_dic_list()) "
    }
   },
   "types_to_exclude": [
    "module",
    "function",
    "builtin_function_or_method",
    "instance",
    "_Feature"
   ],
   "window_display": false
  }
 },
 "nbformat": 4,
 "nbformat_minor": 5
}
